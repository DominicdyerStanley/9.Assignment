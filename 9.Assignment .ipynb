{
 "cells": [
  {
   "cell_type": "code",
   "execution_count": 55,
   "id": "69f0a05f-f6f8-4639-be53-ac1e00d86c0b",
   "metadata": {
    "tags": []
   },
   "outputs": [],
   "source": [
    "import pandas as pd\n",
    "import matplotlib.pyplot as plt"
   ]
  },
  {
   "cell_type": "code",
   "execution_count": 56,
   "id": "b665b3e7-0d96-4d54-a512-ed46a3d65f14",
   "metadata": {
    "tags": []
   },
   "outputs": [],
   "source": [
    "df = pd.read_csv(\"healthcare_data.csv\")"
   ]
  },
  {
   "cell_type": "code",
   "execution_count": 57,
   "id": "1b675757-dc57-4815-9768-d4085db91c68",
   "metadata": {
    "tags": []
   },
   "outputs": [],
   "source": [
    "patient_ages = np.random.normal(loc=35, scale=10, size=1000)"
   ]
  },
  {
   "cell_type": "code",
   "execution_count": 58,
   "id": "10c851a2-99fa-48b1-801f-2b69518c93b2",
   "metadata": {
    "tags": []
   },
   "outputs": [
    {
     "data": {
      "image/png": "[encoded data removed]",
      "text/plain": [
       "<Figure size 640x480 with 1 Axes>"
      ]
     },
     "metadata": {},
     "output_type": "display_data"
    }
   ],
   "source": [
    "plt.hist(patient_ages, bins=30, color='blue', edgecolor='black')\n",
    "plt.title('Distribution of Patient Ages')\n",
    "plt.xlabel('Age')\n",
    "plt.ylabel('Frequency')\n",
    "plt.show()"
   ]
  },
  {
   "cell_type": "code",
   "execution_count": 59,
   "id": "c0224cfb-559a-4b77-944b-83bd59e7d140",
   "metadata": {
    "tags": []
   },
   "outputs": [],
   "source": [
    "Male_Percentage = (df['Gender'].value_counts(normalize=True) * 100).get('Male', 0)"
   ]
  },
  {
   "cell_type": "code",
   "execution_count": 60,
   "id": "d3cf4b42-3f5c-44f8-b190-80c71f4e94ce",
   "metadata": {
    "tags": []
   },
   "outputs": [
    {
     "data": {
      "text/plain": [
       "50.0"
      ]
     },
     "execution_count": 60,
     "metadata": {},
     "output_type": "execute_result"
    }
   ],
   "source": [
    "Male_Percentage"
   ]
  },
  {
   "cell_type": "code",
   "execution_count": 61,
   "id": "d5a8a58b-aade-4dc2-8349-2da650bcaa6a",
   "metadata": {
    "tags": []
   },
   "outputs": [],
   "source": [
    "cancer_patients_count = df[df['Diagnosis'] == 'Cancer'].shape[0]"
   ]
  },
  {
   "cell_type": "code",
   "execution_count": 62,
   "id": "cca106dd-d0bf-4dc5-b3e0-64bc444dd5ef",
   "metadata": {
    "tags": []
   },
   "outputs": [
    {
     "data": {
      "text/plain": [
       "10"
      ]
     },
     "execution_count": 62,
     "metadata": {},
     "output_type": "execute_result"
    }
   ],
   "source": [
    "cancer_patients_count"
   ]
  },
  {
   "cell_type": "code",
   "execution_count": 63,
   "id": "b5443f55-c792-48c9-929c-d73814ac8e63",
   "metadata": {
    "tags": []
   },
   "outputs": [
    {
     "data": {
      "text/plain": [
       "Index(['Patient_ID', 'Patient_Name', 'Age', 'Gender', 'Blood_Type',\n",
       "       'Diagnosis', 'Treatment_Cost'],\n",
       "      dtype='object')"
      ]
     },
     "execution_count": 63,
     "metadata": {},
     "output_type": "execute_result"
    }
   ],
   "source": [
    "df.columns"
   ]
  },
  {
   "cell_type": "code",
   "execution_count": 64,
   "id": "04b47bc4-f384-48c1-89f8-03cf6f1ae2fc",
   "metadata": {
    "tags": []
   },
   "outputs": [],
   "source": [
    "older_than_60 = df[df['Age'] >= 60]\n",
    "\n",
    "average_cost_60_and_above = older_than_60['Treatment_Cost'].mean()"
   ]
  },
  {
   "cell_type": "code",
   "execution_count": 65,
   "id": "57d8a8d5-c9e7-4995-898b-b20e2bceaf56",
   "metadata": {
    "tags": []
   },
   "outputs": [
    {
     "data": {
      "text/plain": [
       "2344.59375"
      ]
     },
     "execution_count": 65,
     "metadata": {},
     "output_type": "execute_result"
    }
   ],
   "source": [
    "average_cost_60_and_above"
   ]
  },
  {
   "cell_type": "code",
   "execution_count": 66,
   "id": "f29f9a3b-9fe3-4499-b071-c96cd5a1f112",
   "metadata": {
    "tags": []
   },
   "outputs": [],
   "source": [
    "blood_type_avg_cost = df.groupby('Blood_Type')['Treatment_Cost'].mean()"
   ]
  },
  {
   "cell_type": "code",
   "execution_count": 67,
   "id": "fdc4ea81-fc14-4d48-a1ab-340f3b59766b",
   "metadata": {
    "tags": []
   },
   "outputs": [
    {
     "data": {
      "text/plain": [
       "Blood_Type\n",
       "A+     3594.500000\n",
       "A-     1470.300000\n",
       "AB+    2232.687500\n",
       "AB-    1923.833333\n",
       "B+      860.250000\n",
       "B-      860.750000\n",
       "O+     2870.125000\n",
       "O-     1935.250000\n",
       "Name: Treatment_Cost, dtype: float64"
      ]
     },
     "execution_count": 67,
     "metadata": {},
     "output_type": "execute_result"
    }
   ],
   "source": [
    "blood_type_avg_cost"
   ]
  },
  {
   "cell_type": "code",
   "execution_count": 68,
   "id": "c9fd0eaf-2613-4ed3-8064-fbd337637218",
   "metadata": {
    "tags": []
   },
   "outputs": [],
   "source": [
    "highest_avg_cost_blood_type = blood_type_avg_cost.idxmax()\n",
    "highest_avg_cost_value = blood_type_avg_cost.max()"
   ]
  },
  {
   "cell_type": "code",
   "execution_count": 69,
   "id": "6354a615-22fe-423e-9731-37f2a0894ee6",
   "metadata": {
    "tags": []
   },
   "outputs": [
    {
     "data": {
      "text/plain": [
       "3594.5"
      ]
     },
     "execution_count": 69,
     "metadata": {},
     "output_type": "execute_result"
    }
   ],
   "source": [
    "highest_avg_cost_value"
   ]
  },
  {
   "cell_type": "code",
   "execution_count": 70,
   "id": "93cb89d5-38b7-417a-b92c-4d1af153096b",
   "metadata": {
    "tags": []
   },
   "outputs": [
    {
     "data": {
      "text/plain": [
       "'A+'"
      ]
     },
     "execution_count": 70,
     "metadata": {},
     "output_type": "execute_result"
    }
   ],
   "source": [
    "highest_avg_cost_blood_type"
   ]
  },
  {
   "cell_type": "code",
   "execution_count": 71,
   "id": "c6e72b01-7140-4ff7-b9c1-f41643f595ad",
   "metadata": {
    "tags": []
   },
   "outputs": [],
   "source": [
    "gender_diagnosis_avg_age = df.groupby(['Gender', 'Diagnosis'])['Age'].mean()"
   ]
  },
  {
   "cell_type": "code",
   "execution_count": 72,
   "id": "56036fc9-fc28-4ed5-85cb-8dedba9dba3e",
   "metadata": {
    "tags": []
   },
   "outputs": [
    {
     "data": {
      "text/plain": [
       "Gender  Diagnosis    \n",
       "Female  Asthma           47.666667\n",
       "        Cancer           55.333333\n",
       "        Diabetes         54.400000\n",
       "        Heart Disease    57.750000\n",
       "        Hypertension     45.250000\n",
       "Male    Asthma           49.000000\n",
       "        Cancer           44.500000\n",
       "        Diabetes         52.000000\n",
       "        Heart Disease    54.666667\n",
       "        Hypertension     39.166667\n",
       "Name: Age, dtype: float64"
      ]
     },
     "execution_count": 72,
     "metadata": {},
     "output_type": "execute_result"
    }
   ],
   "source": [
    "gender_diagnosis_avg_age"
   ]
  },
  {
   "cell_type": "code",
   "execution_count": null,
   "id": "ac40ed34-3a15-4e2e-9d8a-550958b5c402",
   "metadata": {},
   "outputs": [],
   "source": []
  }
 ],
 "metadata": {
  "kernelspec": {
   "display_name": "Python 3 (ipykernel)",
   "language": "python",
   "name": "python3"
  },
  "language_info": {
   "codemirror_mode": {
    "name": "ipython",
    "version": 3
   },
   "file_extension": ".py",
   "mimetype": "text/x-python",
   "name": "python",
   "nbconvert_exporter": "python",
   "pygments_lexer": "ipython3",
   "version": "3.11.5"
  }
 },
 "nbformat": 4,
 "nbformat_minor": 5
}
